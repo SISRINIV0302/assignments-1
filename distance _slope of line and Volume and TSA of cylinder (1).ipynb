{
 "cells": [
  {
   "cell_type": "code",
   "execution_count": 24,
   "id": "5004afa3",
   "metadata": {},
   "outputs": [
    {
     "data": {
      "text/plain": [
       "9.433981132056603"
      ]
     },
     "execution_count": 24,
     "metadata": {},
     "output_type": "execute_result"
    }
   ],
   "source": [
    "class Line:\n",
    "    \n",
    "    def __init__(self,coor1,coor2):\n",
    "        self.coor1=coor1\n",
    "        self.coor2=coor2\n",
    "    \n",
    "    def distance(self):\n",
    "        return ((self.coor2[0] - self.coor1[0])**2+(self.coor2[1] - self.coor1[1])**2)**0.5    \n",
    "    def slope(self):\n",
    "        return (self.coor2[1]-self.coor1[1])/(self.coor2[0]-self.coor1[0])\n",
    "\n",
    "coor1=(3.0, 2.0)\n",
    "coor2=(8.0, 10.0)\n",
    "li=Line(coor1,coor2)\n",
    "li.distance()\n",
    "\n",
    "\n",
    "\n",
    "\n"
   ]
  },
  {
   "cell_type": "code",
   "execution_count": 23,
   "id": "d068f949",
   "metadata": {},
   "outputs": [
    {
     "data": {
      "text/plain": [
       "1.6"
      ]
     },
     "execution_count": 23,
     "metadata": {},
     "output_type": "execute_result"
    }
   ],
   "source": [
    "li.slope()"
   ]
  },
  {
   "cell_type": "code",
   "execution_count": 28,
   "id": "d0df2a6b",
   "metadata": {},
   "outputs": [
    {
     "data": {
      "text/plain": [
       "56.52"
      ]
     },
     "execution_count": 28,
     "metadata": {},
     "output_type": "execute_result"
    }
   ],
   "source": [
    "#problem2\n",
    "#VOLUME AND TOTAL SURFACE AREA OF A CYLINDER\n",
    "class Cylinder:\n",
    "    pi = 3.14    \n",
    "    def __init__(self,height,radius):\n",
    "        self.height = height\n",
    "        self.radius = radius        \n",
    "    def volume(self):\n",
    "        return Cylinder.pi * (self.radius**2) * self.height    \n",
    "    def SurfaceArea(self):\n",
    "        circles = 2 * Cylinder.pi * self.radius**2\n",
    "        wall = 2 * Cylinder.pi * self.radius * self.height\n",
    "        return circles + wall\n",
    "c=Cylinder(2,3)\n",
    "c.volume()\n"
   ]
  },
  {
   "cell_type": "code",
   "execution_count": 29,
   "id": "74995393",
   "metadata": {},
   "outputs": [
    {
     "data": {
      "text/plain": [
       "94.2"
      ]
     },
     "execution_count": 29,
     "metadata": {},
     "output_type": "execute_result"
    }
   ],
   "source": [
    "c.SurfaceArea()"
   ]
  },
  {
   "cell_type": "code",
   "execution_count": null,
   "id": "39127fcf",
   "metadata": {},
   "outputs": [],
   "source": []
  }
 ],
 "metadata": {
  "kernelspec": {
   "display_name": "Python 3",
   "language": "python",
   "name": "python3"
  },
  "language_info": {
   "codemirror_mode": {
    "name": "ipython",
    "version": 3
   },
   "file_extension": ".py",
   "mimetype": "text/x-python",
   "name": "python",
   "nbconvert_exporter": "python",
   "pygments_lexer": "ipython3",
   "version": "3.8.8"
  }
 },
 "nbformat": 4,
 "nbformat_minor": 5
}
