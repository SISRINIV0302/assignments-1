{
 "cells": [
  {
   "cell_type": "code",
   "execution_count": 37,
   "id": "7d0aed86",
   "metadata": {},
   "outputs": [
    {
     "name": "stdout",
     "output_type": "stream",
     "text": [
      "5 is not within the range of 100 - 10\n"
     ]
    }
   ],
   "source": [
    "#FUNCTIONS AND METHODS\n",
    "# FINDING A NUMBER IS WHETHER IN GIVEN RANGE\n",
    "#PROBLEM-2\n",
    "#'a' an 'b' are minimum/maximum define range\n",
    "# 'n' is number to be checked\n",
    "def range(a,b,n):    \n",
    "    if a < b:\n",
    "        if n >= a:    \n",
    "            if n <= b:\n",
    "                print(n, \"is within the range of\", a, \"-\", b)\n",
    "            else:\n",
    "                print(n, \"is not within the range of\", a, \"-\", b)\n",
    "        else:\n",
    "            print(n, \"is not within the range of\", a, \"-\", b)\n",
    "    if a > b:\n",
    "        if n <=a:\n",
    "            if n >=b:\n",
    "                print(n, \"is within the range of\", a, \"-\", b)\n",
    "            else:\n",
    "                print(n, \"is not within the range of\", a, \"-\", b)\n",
    "r=range(100,10,5)\n"
   ]
  },
  {
   "cell_type": "code",
   "execution_count": 1,
   "id": "fdaa5bb2",
   "metadata": {},
   "outputs": [
    {
     "name": "stdout",
     "output_type": "stream",
     "text": [
      "Please enter your own String : liril\n",
      "This is a Palindrome String\n"
     ]
    }
   ],
   "source": [
    "#FUNCTIONS AND METHODS HOME WORK \n",
    "#PROBLEM-6\n",
    "# Python Program to Check a phrase or a word is 'Palindrome' or Not\n",
    "string = input(\"Please enter your own String : \")\n",
    "if(string == string[:: - 1]):\n",
    "   print(\"This is a Palindrome String\")\n",
    "else:\n",
    "   print(\"This is Not a Palindrome String\")\n"
   ]
  },
  {
   "cell_type": "code",
   "execution_count": 3,
   "id": "9e7eb404",
   "metadata": {},
   "outputs": [
    {
     "name": "stdout",
     "output_type": "stream",
     "text": [
      "Original String :  Hard Work beats Talent When talent does not work Hard\n",
      "No. of Upper case characters :  5\n",
      "No. of Lower case Characters :  39\n"
     ]
    }
   ],
   "source": [
    "#FUNCTIONS AND METHODS\n",
    "#PROBLEM-3\n",
    "#COUNTING UPPERCASE AND LOWER CASE LETTERS IN A GIVEN STRING\n",
    "def string_test(s):    \n",
    "    d={\"UPPER_CASE\":0, \"LOWER_CASE\":0}     \n",
    "    for c in s:\n",
    "        if c.isupper():\n",
    "           d[\"UPPER_CASE\"]+=1\n",
    "        elif c.islower():\n",
    "           d[\"LOWER_CASE\"]+=1\n",
    "        else:\n",
    "           pass\n",
    "    print (\"Original String : \", s)\n",
    "    print (\"No. of Upper case characters : \", d[\"UPPER_CASE\"])\n",
    "    print (\"No. of Lower case Characters : \", d[\"LOWER_CASE\"])\n",
    "\n",
    "string_test('Hard Work beats Talent When talent does not work Hard')\n"
   ]
  },
  {
   "cell_type": "code",
   "execution_count": 47,
   "id": "34ada9ff",
   "metadata": {},
   "outputs": [
    {
     "name": "stdout",
     "output_type": "stream",
     "text": [
      "-32\n"
     ]
    }
   ],
   "source": [
    "#FUNCTIONS AND METHODS\n",
    "#PROBLEM-5\n",
    "#FUNCTION TO MULTIPLY ALL THE NUMBERS IN A LIST\n",
    "def multiply_list(items):\n",
    "    product = 1\n",
    "    for x in items:\n",
    "        product*= x\n",
    "    return product\n",
    "print(multiply_list([2,2,-8])) \n",
    "\n"
   ]
  },
  {
   "cell_type": "code",
   "execution_count": 50,
   "id": "18101307",
   "metadata": {},
   "outputs": [
    {
     "name": "stdout",
     "output_type": "stream",
     "text": [
      "[1, 2, 3, 4, 5, 6, 7, 8, 9]\n"
     ]
    }
   ],
   "source": [
    "#FUNCTIONS AND METHODS\n",
    "#PROBLEM-4\n",
    "#FUNTION THAT TAKES A LIST AND RETURNS A NEW KIST WITH UNIQUE ELEMENTS OF THE FIRST LIST\n",
    "def unique_list(l):\n",
    "  x = []\n",
    "  for a in l:\n",
    "    if a not in x:\n",
    "      x.append(a)\n",
    "  return x\n",
    "\n",
    "print(unique_list([1,2,3,3,3,3,4,5,6,7,7,8,9,6]))\n"
   ]
  },
  {
   "cell_type": "code",
   "execution_count": 64,
   "id": "1bb0acc4",
   "metadata": {},
   "outputs": [
    {
     "name": "stdout",
     "output_type": "stream",
     "text": [
      "one is odd and greater of two is: 8\n"
     ]
    }
   ],
   "source": [
    "#FUNCTION PRACTICE EXERCISES\n",
    "#PROBLEM-1\n",
    "def lesser_of_two_evens(a,b):\n",
    "    if a % 2 == 0 and b % 2 == 0:\n",
    "        if b < a: \n",
    "            return print(\"both are even and lesser of two is:\", b)\n",
    "        else:\n",
    "            return print(\"both are even and lesser of two is:\", a)\n",
    "    else:\n",
    "        if a < b:\n",
    "            return print(\"one is odd and greater of two is:\", b)\n",
    "        else:\n",
    "            return print(\"one is odd and greater of two is:\", a)\n",
    "r=lesser_of_two_evens(8,7)\n",
    "\n",
    "\n",
    "\n",
    "\n",
    "\n",
    "\n"
   ]
  },
  {
   "cell_type": "code",
   "execution_count": 56,
   "id": "a35d4fdf",
   "metadata": {},
   "outputs": [
    {
     "name": "stdout",
     "output_type": "stream",
     "text": [
      "enter the the two word string :bow asj\n"
     ]
    },
    {
     "data": {
      "text/plain": [
       "False"
      ]
     },
     "execution_count": 56,
     "metadata": {},
     "output_type": "execute_result"
    }
   ],
   "source": [
    "#FUNCTION PRACTICE EXERCISES\n",
    "#PROBLEM-2\n",
    "#function that takes two word string and returns 'True' if both words begin with same letter.\n",
    "def animal_crackers(string):\n",
    "    s1, s2 = string.split(' ')\n",
    "    return (s1[0].upper() == s2[0].upper())\n",
    "string=input(\"enter the the two word string :\")\n",
    "animal_crackers(string)\n",
    "\n"
   ]
  },
  {
   "cell_type": "code",
   "execution_count": 37,
   "id": "204effed",
   "metadata": {},
   "outputs": [
    {
     "name": "stdout",
     "output_type": "stream",
     "text": [
      "NamOvenkteshaya\n"
     ]
    }
   ],
   "source": [
    "##FUNCTION PRACTICE EXERCISES\n",
    "#PROBLEM-4\n",
    "#function that capitalizes the first and fourth letters of a name\n",
    "def old_macdonald(name):    \n",
    "    return (name[0].upper()+name[1:3].lower()+name[3].upper()+name[4:].lower())\n",
    "k=old_macdonald(\"namovenkteshaya\")\n",
    "print(k)"
   ]
  },
  {
   "cell_type": "code",
   "execution_count": 42,
   "id": "d8079bdf",
   "metadata": {},
   "outputs": [
    {
     "name": "stdout",
     "output_type": "stream",
     "text": [
      "enter which letter to be capitalized :3\n",
      "enter which letter to be capitalized :6\n",
      "sriNivAs\n"
     ]
    }
   ],
   "source": [
    "def old_macdonald(name):\n",
    "    k=int(input(\"enter which letter to be capitalized :\"))\n",
    "    l=int(input(\"enter which letter to be capitalized :\"))    \n",
    "    mylist = list(name)\n",
    "    mylist[k] = mylist[k].upper()\n",
    "    mylist[l] = mylist[l].upper()\n",
    "    return ''.join(mylist)\n",
    "x=old_macdonald(\"srinivas\")\n",
    "print(x)"
   ]
  },
  {
   "cell_type": "code",
   "execution_count": 46,
   "id": "b20e14c0",
   "metadata": {},
   "outputs": [
    {
     "name": "stdout",
     "output_type": "stream",
     "text": [
      "Enter string:keep calm becuase nothing lasts forever\n",
      "The string isn't a pangram\n"
     ]
    }
   ],
   "source": [
    "#FUNCTIONS AND METHODS\n",
    "#PROBLEM-7\n",
    "#FUNCTION TO CHECK WHETHR A STRNING IS PANGRAM OR NOT\n",
    "\n",
    "def check(s):\n",
    "    asc_lower=(\"abcdefghijklmnopqrstuvwxyz\")\n",
    "    return set(asc_lower) - set(s.lower()) == set([])\n",
    "s=input(\"Enter a string:\")\n",
    "if(check(s)==True):\n",
    "      print(\"The string is a pangram\")\n",
    "else:\n",
    "      print(\"The string is not a pangram\")"
   ]
  },
  {
   "cell_type": "code",
   "execution_count": 84,
   "id": "2b5f446f",
   "metadata": {},
   "outputs": [
    {
     "data": {
      "text/plain": [
       "False"
      ]
     },
     "execution_count": 84,
     "metadata": {},
     "output_type": "execute_result"
    }
   ],
   "source": [
    "##FUNCTION PRACTICE EXERCISES\n",
    "#PROBLEM-7 LEVEL-2\n",
    "#FIND 33\n",
    "def has_33(nums):\n",
    "    for i,num in enumerate(nums):\n",
    "        if nums[i]==3 and nums[i+1]==3:\n",
    "                   return True\n",
    "    return False\n",
    "nums=(1,2,3,6,4)\n",
    "has_33(nums)\n"
   ]
  },
  {
   "cell_type": "code",
   "execution_count": 86,
   "id": "792fb7ab",
   "metadata": {},
   "outputs": [
    {
     "data": {
      "text/plain": [
       "True"
      ]
     },
     "execution_count": 86,
     "metadata": {},
     "output_type": "execute_result"
    }
   ],
   "source": [
    "l=(3,3,4,5,6,7)\n",
    "has_33(l)"
   ]
  },
  {
   "cell_type": "code",
   "execution_count": 5,
   "id": "ab9264bc",
   "metadata": {},
   "outputs": [
    {
     "name": "stdout",
     "output_type": "stream",
     "text": [
      "enter start number :5\n",
      "enter end number :78\n",
      "Prime numbers: 5 7 11 13 17 19 23 29 31 37 41 43 47 53 59 61 67 71 73 "
     ]
    }
   ],
   "source": [
    "#FUNCITONS PRACTICE EXERCISE\n",
    "#PROBLEM-12 LEVEL-2\n",
    "#COUNT PRIMES\n",
    "def isprime(start,end): \n",
    "    \n",
    "    print(\"Prime numbers:\",end=' ')\n",
    "    \n",
    "    for i in range(start,end+1):\n",
    "        if i>1:  \n",
    "            for j in range(2,i):\n",
    "\n",
    "                if(i%j==0):\n",
    "\n",
    "                    break\n",
    "\n",
    "            else:\n",
    "                  print(i,end=' ')       \n",
    "    \n",
    "start=int(input(\"enter start number :\"))\n",
    "end=int(input(\"enter end number :\"))\n",
    "isprime(start,end)\n",
    "\n"
   ]
  },
  {
   "cell_type": "code",
   "execution_count": null,
   "id": "6593dbf7",
   "metadata": {},
   "outputs": [],
   "source": []
  },
  {
   "cell_type": "code",
   "execution_count": null,
   "id": "f4ddc8e4",
   "metadata": {},
   "outputs": [],
   "source": [
    "3"
   ]
  }
 ],
 "metadata": {
  "kernelspec": {
   "display_name": "Python 3",
   "language": "python",
   "name": "python3"
  },
  "language_info": {
   "codemirror_mode": {
    "name": "ipython",
    "version": 3
   },
   "file_extension": ".py",
   "mimetype": "text/x-python",
   "name": "python",
   "nbconvert_exporter": "python",
   "pygments_lexer": "ipython3",
   "version": "3.8.8"
  }
 },
 "nbformat": 4,
 "nbformat_minor": 5
}
