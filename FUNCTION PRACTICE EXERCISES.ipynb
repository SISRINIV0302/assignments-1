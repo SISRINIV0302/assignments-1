{
 "cells": [
  {
   "cell_type": "code",
   "execution_count": 31,
   "id": "c07bec24",
   "metadata": {},
   "outputs": [],
   "source": [
    "#FUNCTIONS PRACTICE EXERCISES\n",
    "#PROBLEM-1\n",
    "#GIVEN AN INTEGER 'n', RETURN 'TRUE' IF 'n' IS WITHIN 10 OF EITHER 100 OR 200\n",
    "def almost_there(n):\n",
    "    return ((abs(100-n) <= 10) or (abs(200-n) <= 10))\n",
    "       \n"
   ]
  },
  {
   "cell_type": "code",
   "execution_count": 32,
   "id": "17afe52f",
   "metadata": {},
   "outputs": [
    {
     "data": {
      "text/plain": [
       "True"
      ]
     },
     "execution_count": 32,
     "metadata": {},
     "output_type": "execute_result"
    }
   ],
   "source": [
    "almost_there(210)"
   ]
  },
  {
   "cell_type": "code",
   "execution_count": 36,
   "id": "af5be8b3",
   "metadata": {},
   "outputs": [
    {
     "name": "stdout",
     "output_type": "stream",
     "text": [
      "['Control', 'your', 'emotions', 'other', 'wise', 'they', 'will', 'control', 'you']\n",
      "you control will they wise other emotions your Control\n"
     ]
    }
   ],
   "source": [
    "#FUNCTIONS PRACTICE EXERCISES\n",
    "#PROBLEM-6\n",
    "#GIVEN A SENTENCE, RETURN A SENTENCE WITH THE 'WORDS' REVERSED.\n",
    "sentence = \"Control your emotions other wise they will control you\"\n",
    "word_list = sentence.split()\n",
    "print(word_list)\n",
    "reversed_list = word_list[:: -1]\n",
    "reversed_sentence = \" \".join(reversed_list)\n",
    "print(reversed_sentence)\n"
   ]
  },
  {
   "cell_type": "code",
   "execution_count": 46,
   "id": "21508eae",
   "metadata": {},
   "outputs": [
    {
     "name": "stdout",
     "output_type": "stream",
     "text": [
      "False\n",
      "True\n",
      "True\n"
     ]
    }
   ],
   "source": [
    "#FUNCTIONS PRACTICE EXERCISES\n",
    "#PROBLEM-3\n",
    "#GIVEN two integers, return TRUE if the sum of the integers is 20 or if one of the integer is 20 or if not return FALSE.\n",
    "def test_numbers(x, y):\n",
    "    if x == 20 or y == 20 or (x+y) == 20:\n",
    "        return True\n",
    "    else:\n",
    "        return False\n",
    "print(test_numbers(10,1))\n",
    "print(test_numbers(10,20))\n",
    "print(test_numbers(10,10))\n",
    "\n"
   ]
  },
  {
   "cell_type": "code",
   "execution_count": 4,
   "id": "c6d123df",
   "metadata": {},
   "outputs": [
    {
     "data": {
      "text/plain": [
       "'RRRAAAMMMAAA'"
      ]
     },
     "execution_count": 4,
     "metadata": {},
     "output_type": "execute_result"
    }
   ],
   "source": [
    "#FUNCTIONS PRACTICE EXERCISES\n",
    "#PROBLEM-8 LEVEL-2\n",
    "#PAPER DOLL- GIVEN A STRING, RETURN A STRING WHERE FOR EVERY CHARACTER IN THE ORIGINAL STRING THERE ARE THREE CHARACTERS\n",
    "\n",
    "\n",
    "def paper_doll(text):\n",
    "    new_word = ''\n",
    "    for letter in text:\n",
    "        new_word += letter * 3\n",
    "    return new_word\n",
    "paper_doll(\"RAMA\")"
   ]
  },
  {
   "cell_type": "code",
   "execution_count": 6,
   "id": "395f0913",
   "metadata": {},
   "outputs": [
    {
     "data": {
      "text/plain": [
       "21"
      ]
     },
     "execution_count": 6,
     "metadata": {},
     "output_type": "execute_result"
    }
   ],
   "source": [
    "#FUNCTIONS PRACTICE EXERCISES\n",
    "#PROBLEM-9 LEVEL-2\n",
    "#BLACK JACK. \n",
    "#Given three integers between 1 and 11, if their sum is less than or equal to 21, return their sum. \n",
    "#If their sum exceeds 21 and there’s an eleven, reduce the total sum by 10. \n",
    "#Finally, if the sum (even after adjustment) exceeds 21, return ‘BUST’.\n",
    "def blackjack(a,b,c):\n",
    "    if a + b + c <= 21:\n",
    "        return a + b + c\n",
    "    elif (a+b+c) > 21 and (a == 11 or b == 11 or c == 11):\n",
    "        return a+b+c -10\n",
    "    else:\n",
    "        return 'BUST'\n",
    "blackjack(10,11,10)"
   ]
  },
  {
   "cell_type": "code",
   "execution_count": 7,
   "id": "33a1f2cd",
   "metadata": {},
   "outputs": [
    {
     "data": {
      "text/plain": [
       "'BUST'"
      ]
     },
     "execution_count": 7,
     "metadata": {},
     "output_type": "execute_result"
    }
   ],
   "source": [
    "blackjack(12,10,10)"
   ]
  },
  {
   "cell_type": "code",
   "execution_count": 8,
   "id": "4b84a507",
   "metadata": {},
   "outputs": [
    {
     "data": {
      "text/plain": [
       "15"
      ]
     },
     "execution_count": 8,
     "metadata": {},
     "output_type": "execute_result"
    }
   ],
   "source": [
    "blackjack(5,4,6)"
   ]
  },
  {
   "cell_type": "code",
   "execution_count": 9,
   "id": "dd8c5815",
   "metadata": {},
   "outputs": [],
   "source": [
    "#FUNCTION PRACTICE EXERCISE\n",
    "#PROBLEM-10 LEVEL-2\n",
    "#Summer of 69.\n",
    "#Return the sum of the numbers in the array, \n",
    "#except ignore sections of numbers starting with a 6 and extending to the next 9\n",
    "#(every 6 will be followed by at least one 9). Return 0 for no numbers.\n",
    "def summer_69(arr):\n",
    "    total_count= 0\n",
    "    add = True\n",
    "    \n",
    "    for num in arr:\n",
    "        while add:\n",
    "            if num != 6:\n",
    "                total_count += num\n",
    "                break\n",
    "            else:\n",
    "                add = False\n",
    "        while not add: \n",
    "            if num != 9:\n",
    "                break\n",
    "            else: \n",
    "                add = True\n",
    "                break\n",
    "    return total_count\n"
   ]
  },
  {
   "cell_type": "code",
   "execution_count": 19,
   "id": "f762f790",
   "metadata": {},
   "outputs": [
    {
     "data": {
      "text/plain": [
       "14"
      ]
     },
     "execution_count": 19,
     "metadata": {},
     "output_type": "execute_result"
    }
   ],
   "source": [
    "arr=(3,4,5,6,7,8,9,2)\n",
    "summer_69(arr)"
   ]
  },
  {
   "cell_type": "code",
   "execution_count": 13,
   "id": "4fb9112f",
   "metadata": {},
   "outputs": [
    {
     "data": {
      "text/plain": [
       "30"
      ]
     },
     "execution_count": 13,
     "metadata": {},
     "output_type": "execute_result"
    }
   ],
   "source": [
    "arr=(3,4,5,7,8,1,2)\n",
    "summer_69(arr)"
   ]
  },
  {
   "cell_type": "code",
   "execution_count": 15,
   "id": "f8398369",
   "metadata": {},
   "outputs": [
    {
     "data": {
      "text/plain": [
       "19"
      ]
     },
     "execution_count": 15,
     "metadata": {},
     "output_type": "execute_result"
    }
   ],
   "source": [
    "arr=(3,4,5,7,6,8,1,2)\n",
    "summer_69(arr)"
   ]
  },
  {
   "cell_type": "code",
   "execution_count": 18,
   "id": "3049be98",
   "metadata": {},
   "outputs": [
    {
     "data": {
      "text/plain": [
       "0"
      ]
     },
     "execution_count": 18,
     "metadata": {},
     "output_type": "execute_result"
    }
   ],
   "source": [
    "arr=()\n",
    "summer_69(arr)"
   ]
  },
  {
   "cell_type": "code",
   "execution_count": 20,
   "id": "67b288a8",
   "metadata": {},
   "outputs": [],
   "source": [
    "#FUNCITONS PRACTICE EXERCISE\n",
    "#PROBLEM-11 LEVEL-2\n",
    "#FUNCTION THAT TAKES IN A LIST OF INTEGERS AND RETURNS TRUE IF IT CONTAINS '007' IN ORDER\n",
    "\n",
    "def spy_game(nums):\n",
    "    for i in range(0,len(nums)):\n",
    "        if nums[i] == 0:\n",
    "            for x in range(i+1,len(nums)):\n",
    "                if nums[x] == 0:\n",
    "                    for y in range(x+1,len(nums)):\n",
    "                        if nums[y] == 7:\n",
    "                            return True\n",
    "                else:\n",
    "                    return False"
   ]
  },
  {
   "cell_type": "code",
   "execution_count": 21,
   "id": "84bb059b",
   "metadata": {},
   "outputs": [
    {
     "data": {
      "text/plain": [
       "True"
      ]
     },
     "execution_count": 21,
     "metadata": {},
     "output_type": "execute_result"
    }
   ],
   "source": [
    "L=(1,2,3,0,0,7,99)\n",
    "spy_game(L)"
   ]
  },
  {
   "cell_type": "code",
   "execution_count": 37,
   "id": "6cf31474",
   "metadata": {},
   "outputs": [
    {
     "data": {
      "text/plain": [
       "True"
      ]
     },
     "execution_count": 37,
     "metadata": {},
     "output_type": "execute_result"
    }
   ],
   "source": [
    "L=(1,2,3,0,0,1,0,0,7)\n",
    "spy_game(L)"
   ]
  },
  {
   "cell_type": "code",
   "execution_count": 33,
   "id": "b5216de3",
   "metadata": {},
   "outputs": [
    {
     "data": {
      "text/plain": [
       "True"
      ]
     },
     "execution_count": 33,
     "metadata": {},
     "output_type": "execute_result"
    }
   ],
   "source": [
    "k=(1,2,3,0,0,7)\n",
    "spy_game(k)"
   ]
  },
  {
   "cell_type": "code",
   "execution_count": 44,
   "id": "68816f5f",
   "metadata": {},
   "outputs": [
    {
     "data": {
      "text/plain": [
       "True"
      ]
     },
     "execution_count": 44,
     "metadata": {},
     "output_type": "execute_result"
    }
   ],
   "source": [
    "k=(1,2,3,0,0,1,0,0,7)\n",
    "spy_game(k)"
   ]
  },
  {
   "cell_type": "code",
   "execution_count": null,
   "id": "fe8748a6",
   "metadata": {},
   "outputs": [],
   "source": []
  },
  {
   "cell_type": "code",
   "execution_count": null,
   "id": "a049ede4",
   "metadata": {},
   "outputs": [],
   "source": []
  }
 ],
 "metadata": {
  "kernelspec": {
   "display_name": "Python 3",
   "language": "python",
   "name": "python3"
  },
  "language_info": {
   "codemirror_mode": {
    "name": "ipython",
    "version": 3
   },
   "file_extension": ".py",
   "mimetype": "text/x-python",
   "name": "python",
   "nbconvert_exporter": "python",
   "pygments_lexer": "ipython3",
   "version": "3.8.8"
  }
 },
 "nbformat": 4,
 "nbformat_minor": 5
}
